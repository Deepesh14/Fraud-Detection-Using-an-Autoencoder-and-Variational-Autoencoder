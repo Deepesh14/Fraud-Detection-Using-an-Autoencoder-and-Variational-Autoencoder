{
  "cells": [
    {
      "cell_type": "code",
      "execution_count": null,
      "metadata": {
        "id": "4jFQtSLLhOEn"
      },
      "outputs": [],
      "source": [
        "# Fraud Detection Using an Autoencoder\n",
        "#\n",
        "# TEAM MEMBERS\n",
        "# Deepesh Kumar Sahu cs23mtech11006\n",
        "# Naveen Nayak cs23mtech11011\n",
        "# Pramod Hembrom cs23mtech11015\n",
        "# Sameer Atram cs23mtech11017\n",
        "\n",
        "import pandas as pd\n",
        "import numpy as np\n",
        "import tensorflow as tf\n",
        "# from tensorflow.keras.layers import Input, Dense\n",
        "from tensorflow.keras.models import Model\n",
        "from tensorflow.keras import layers, regularizers\n",
        "from sklearn.preprocessing import MinMaxScaler\n",
        "from sklearn.model_selection import train_test_split\n",
        "from sklearn.metrics import accuracy_score, f1_score\n",
        "from google.colab import drive\n",
        "import matplotlib.pyplot as plt\n"
      ]
    },
    {
      "cell_type": "code",
      "execution_count": 5,
      "metadata": {
        "id": "qWVCxiQMhhtr"
      },
      "outputs": [],
      "source": [
        "class AnomalyDetector(tf.keras.Model):\n",
        "    def __init__(self, input_dim):\n",
        "        super(AnomalyDetector, self).__init__()\n",
        "        tf.random.set_seed(20)\n",
        "        # np.random.seed(seed)\n",
        "        self.encoder = tf.keras.Sequential([\n",
        "            layers.Dense(20, activation='relu', activity_regularizer=regularizers.l1(10e-5)),\n",
        "            layers.Dense(10, activation='relu')\n",
        "        ])\n",
        "\n",
        "        self.decoder = tf.keras.Sequential([\n",
        "            layers.Dense(10, activation='relu'),\n",
        "            layers.Dense(20, activation='relu'),\n",
        "            layers.Dense(input_dim, activation='sigmoid')\n",
        "        ])\n",
        "\n",
        "    def call(self, x):\n",
        "        encoded = self.encoder(x)\n",
        "        decoded = self.decoder(encoded)\n",
        "        return decoded"
      ]
    },
    {
      "cell_type": "code",
      "execution_count": 6,
      "metadata": {
        "colab": {
          "base_uri": "https://localhost:8080/"
        },
        "id": "vwHPqGdQ7p4C",
        "outputId": "3473df3b-101b-4c16-8159-e9cf73986c4d"
      },
      "outputs": [
        {
          "name": "stdout",
          "output_type": "stream",
          "text": [
            "Mounted at /content/drive\n"
          ]
        }
      ],
      "source": [
        "drive.mount('/content/drive')\n",
        "file_path = \"/content/drive/MyDrive/creditcard.csv\"\n",
        "\n"
      ]
    },
    {
      "cell_type": "code",
      "execution_count": 7,
      "metadata": {
        "id": "46SVitVihmh_"
      },
      "outputs": [],
      "source": [
        "data = pd.read_csv(file_path)\n",
        "# Prepare data\n",
        "data[\"LogAmount\"] = np.log1p(data[\"Amount\"]+1)\n",
        "data[\"LogTime\"] = np.log1p(data[\"Time\"]+1)\n",
        "data.drop(columns=['Time', 'Amount'], inplace=True)\n",
        "x = data.drop([\"Class\"], axis=1)\n",
        "y = data[\"Class\"].values\n",
        "x_scale = MinMaxScaler().fit_transform(x.values)\n",
        "x_norm = x_scale[y == 0]\n",
        "x_fraud = x_scale[y == 1]\n",
        "\n",
        "# Split fraud data into train and test sets\n",
        "X_train_fraud, X_test_fraud = train_test_split(x_fraud, test_size=0.5, random_state=42)"
      ]
    },
    {
      "cell_type": "code",
      "execution_count": 8,
      "metadata": {
        "id": "rQMldKnRhrQI"
      },
      "outputs": [],
      "source": [
        "# Define autoencoder architecture\n",
        "autoencoder = AnomalyDetector(input_dim=x.shape[1])"
      ]
    },
    {
      "cell_type": "code",
      "execution_count": 9,
      "metadata": {
        "id": "jT9RUlZaiQNZ"
      },
      "outputs": [],
      "source": [
        "# Compile autoencoder model\n",
        "autoencoder.compile(optimizer='adam', loss='mse')"
      ]
    },
    {
      "cell_type": "code",
      "execution_count": 10,
      "metadata": {
        "colab": {
          "base_uri": "https://localhost:8080/"
        },
        "id": "CXVkhf6GiTom",
        "outputId": "d26d6b5a-8dad-48a3-da8a-d163b9d53cf8"
      },
      "outputs": [
        {
          "name": "stdout",
          "output_type": "stream",
          "text": [
            "889/889 [==============================] - 5s 3ms/step - loss: 0.0048 - val_loss: 0.0019\n"
          ]
        }
      ],
      "source": [
        "# Train the autoencoder\n",
        "history = autoencoder.fit(x_norm, x_norm,\n",
        "                           batch_size=256, epochs=1,\n",
        "                           shuffle=True, validation_split=0.20)"
      ]
    },
    {
      "cell_type": "code",
      "execution_count": 11,
      "metadata": {
        "colab": {
          "base_uri": "https://localhost:8080/"
        },
        "id": "nBoiDhOpiixv",
        "outputId": "a81dd8d4-9928-4a9d-fe0d-bd81fe1b490c"
      },
      "outputs": [
        {
          "name": "stdout",
          "output_type": "stream",
          "text": [
            "8/8 [==============================] - 0s 2ms/step\n"
          ]
        }
      ],
      "source": [
        "reconstructed_data = autoencoder.predict(X_train_fraud)\n",
        "reconstruction_error = np.mean(np.square(X_train_fraud - reconstructed_data), axis=1)\n",
        "\n",
        "threshold = 0.001\n",
        "# # Classify instances as normal or fraud based on the threshold\n",
        "predictions = np.where(reconstruction_error > threshold, 1, 0)"
      ]
    },
    {
      "cell_type": "code",
      "execution_count": 12,
      "metadata": {
        "id": "uYwQknTSi9QA"
      },
      "outputs": [],
      "source": [
        "# Evaluate the predictions\n",
        "true_labels = np.ones(len(X_test_fraud))\n",
        "\n",
        "f1 = f1_score(true_labels, predictions)"
      ]
    },
    {
      "cell_type": "code",
      "execution_count": 13,
      "metadata": {
        "colab": {
          "base_uri": "https://localhost:8080/"
        },
        "id": "sd-niJwpi_Mo",
        "outputId": "fa753ca7-e4aa-4099-8750-5bcff3073719"
      },
      "outputs": [
        {
          "name": "stdout",
          "output_type": "stream",
          "text": [
            "F1 Score: 0.9938650306748467\n",
            "Number of fraud predictions: 243\n",
            "Number of non-fraud predictions: 3\n",
            "Model: \"anomaly_detector\"\n",
            "_________________________________________________________________\n",
            " Layer (type)                Output Shape              Param #   \n",
            "=================================================================\n",
            " sequential (Sequential)     (None, 10)                830       \n",
            "                                                                 \n",
            " sequential_1 (Sequential)   (None, 30)                960       \n",
            "                                                                 \n",
            "=================================================================\n",
            "Total params: 1790 (6.99 KB)\n",
            "Trainable params: 1790 (6.99 KB)\n",
            "Non-trainable params: 0 (0.00 Byte)\n",
            "_________________________________________________________________\n"
          ]
        }
      ],
      "source": [
        "print(\"F1 Score:\", f1)\n",
        "print(\"Number of fraud predictions:\", np.sum(predictions == 1))\n",
        "print(\"Number of non-fraud predictions:\", np.sum(predictions == 0))\n",
        "\n",
        "autoencoder.summary()"
      ]
    },
    {
      "cell_type": "code",
      "execution_count": 14,
      "metadata": {
        "colab": {
          "base_uri": "https://localhost:8080/",
          "height": 472
        },
        "id": "DNTApL6qiP4W",
        "outputId": "32417eca-f34a-4235-eb31-e46076dc2a99"
      },
      "outputs": [
        {
          "data": {
            "image/png": "[encoded data removed]",
            "text/plain": [
              "<Figure size 640x480 with 1 Axes>"
            ]
          },
          "metadata": {},
          "output_type": "display_data"
        }
      ],
      "source": [
        "# Count the number of fraud and non-fraud predictions\n",
        "fraud_count = np.sum(predictions == 1)\n",
        "non_fraud_count = np.sum(predictions == 0)\n",
        "\n",
        "# Create a bar plot\n",
        "plt.bar(['Fraud', 'Non-Fraud'], [fraud_count, non_fraud_count])\n",
        "plt.xlabel('Class')\n",
        "plt.ylabel('Count')\n",
        "plt.title('Fraud vs Non-Fraud Predictions')\n",
        "plt.show()\n",
        "\n"
      ]
    }
  ],
  "metadata": {
    "colab": {
      "provenance": []
    },
    "kernelspec": {
      "display_name": "Python 3",
      "name": "python3"
    },
    "language_info": {
      "name": "python"
    }
  },
  "nbformat": 4,
  "nbformat_minor": 0
}
