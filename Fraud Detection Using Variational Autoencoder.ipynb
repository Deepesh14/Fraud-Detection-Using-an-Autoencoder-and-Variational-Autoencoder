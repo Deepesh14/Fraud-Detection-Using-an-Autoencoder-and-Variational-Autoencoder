{
  "cells": [
    {
      "cell_type": "code",
      "execution_count": 13,
      "metadata": {
        "id": "uuMWiW1KL0sl"
      },
      "outputs": [],
      "source": [
        "#Fraud Detection Using Variational Autoencoder\n",
        "#\n",
        "# TEAM MEMBERS\n",
        "# Deepesh Kumar Sahu cs23mtech11006\n",
        "# Naveen Nayak cs23mtech11011\n",
        "# Pramod Hembrom cs23mtech11015\n",
        "# Sameer Atram cs23mtech11017\n",
        "\n",
        "\n",
        "import pandas as pd\n",
        "import numpy as np\n",
        "import tensorflow as tf\n",
        "from tensorflow.keras.layers import Input, Dense, Lambda\n",
        "from tensorflow.keras.models import Model\n",
        "from tensorflow.keras import layers, regularizers\n",
        "from sklearn.preprocessing import MinMaxScaler\n",
        "from sklearn.model_selection import train_test_split\n",
        "from sklearn.metrics import accuracy_score, f1_score\n",
        "from google.colab import drive\n",
        "import matplotlib.pyplot as plt"
      ]
    },
    {
      "cell_type": "code",
      "execution_count": 14,
      "metadata": {
        "id": "VL8Ik4tS0spt"
      },
      "outputs": [],
      "source": [
        "# Define sampling function\n",
        "def sampling(args):\n",
        "    z_mean, z_log_var = args\n",
        "    batch = tf.shape(z_mean)[0]\n",
        "    dim = tf.shape(z_mean)[1]\n",
        "    epsilon = tf.keras.backend.random_normal(shape=(batch, dim))\n",
        "    return z_mean + tf.exp(0.5 * z_log_var) * epsilon\n",
        "\n",
        "class VariationalAutoencoder(tf.keras.Model):\n",
        "    def __init__(self, input_dim, latent_dim):\n",
        "        super(VariationalAutoencoder, self).__init__()\n",
        "        self.encoder = tf.keras.Sequential([\n",
        "            layers.Dense(20, activation='relu', activity_regularizer=regularizers.l1(10e-5)),\n",
        "            layers.Dense(10, activation='relu')\n",
        "        ])\n",
        "        self.z_mean = layers.Dense(latent_dim, name=\"mean\")\n",
        "        self.z_log_var = layers.Dense(latent_dim, name=\"log-variance\")\n",
        "        self.decoder = tf.keras.Sequential([\n",
        "            layers.Dense(10, activation='relu'),\n",
        "            layers.Dense(20, activation='relu'),\n",
        "            layers.Dense(input_dim, activation='sigmoid')\n",
        "        ])\n",
        "\n",
        "    def call(self, x):\n",
        "        h = self.encoder(x)\n",
        "        z_mean = self.z_mean(h)\n",
        "        z_log_var = self.z_log_var(h)\n",
        "        z = sampling([z_mean, z_log_var])\n",
        "        decoded = self.decoder(z)\n",
        "        return decoded"
      ]
    },
    {
      "cell_type": "code",
      "execution_count": 15,
      "metadata": {
        "colab": {
          "base_uri": "https://localhost:8080/"
        },
        "id": "BKhoiFdQ0xyQ",
        "outputId": "0552c0e7-f10f-4d1f-8d9c-c4e9e6f2a70f"
      },
      "outputs": [
        {
          "name": "stdout",
          "output_type": "stream",
          "text": [
            "Drive already mounted at /content/drive; to attempt to forcibly remount, call drive.mount(\"/content/drive\", force_remount=True).\n"
          ]
        }
      ],
      "source": [
        "drive.mount('/content/drive')\n",
        "file_path = \"/content/drive/MyDrive/creditcard.csv\"\n",
        "data = pd.read_csv(file_path)"
      ]
    },
    {
      "cell_type": "code",
      "execution_count": 16,
      "metadata": {
        "id": "ieThCCrn0350"
      },
      "outputs": [],
      "source": [
        "# Prepare data\n",
        "data[\"LogAmount\"] = np.log1p(data[\"Amount\"]+1)\n",
        "data[\"LogTime\"] = np.log1p(data[\"Time\"]+1)\n",
        "data.drop(columns=['Time', 'Amount'], inplace=True)\n",
        "x = data.drop([\"Class\"], axis=1)\n",
        "y = data[\"Class\"].values\n",
        "x_scale = MinMaxScaler().fit_transform(x.values)\n",
        "x_norm = x_scale[y == 0]\n",
        "x_fraud = x_scale[y == 1]\n",
        "\n",
        "# Split fraud data into train and test sets\n",
        "X_train_fraud, X_test_fraud = train_test_split(x_fraud, test_size=0.5, random_state=42)"
      ]
    },
    {
      "cell_type": "code",
      "execution_count": 17,
      "metadata": {
        "id": "rLsNOi2m09Uz"
      },
      "outputs": [],
      "source": [
        "# Define VAE architecture\n",
        "latent_dim = 2  # Set the latent dimension\n",
        "input_dim = x.shape[1]\n",
        "vae = VariationalAutoencoder(input_dim, latent_dim)"
      ]
    },
    {
      "cell_type": "code",
      "execution_count": 18,
      "metadata": {
        "id": "j1jAMP-V1ENL"
      },
      "outputs": [],
      "source": [
        "# Compile VAE model\n",
        "vae.compile(optimizer='adam', loss='mse')"
      ]
    },
    {
      "cell_type": "code",
      "execution_count": 19,
      "metadata": {
        "colab": {
          "base_uri": "https://localhost:8080/"
        },
        "id": "03z-Mnlp1MnK",
        "outputId": "fd3d6488-ee4a-48f7-cab9-deba7869182e"
      },
      "outputs": [
        {
          "name": "stdout",
          "output_type": "stream",
          "text": [
            "Epoch 1/5\n",
            "889/889 [==============================] - 7s 4ms/step - loss: 0.0050 - val_loss: 0.0020\n",
            "Epoch 2/5\n",
            "889/889 [==============================] - 3s 3ms/step - loss: 0.0020 - val_loss: 0.0018\n",
            "Epoch 3/5\n",
            "889/889 [==============================] - 4s 5ms/step - loss: 0.0018 - val_loss: 0.0016\n",
            "Epoch 4/5\n",
            "889/889 [==============================] - 4s 5ms/step - loss: 0.0017 - val_loss: 0.0016\n",
            "Epoch 5/5\n",
            "889/889 [==============================] - 3s 3ms/step - loss: 0.0016 - val_loss: 0.0015\n"
          ]
        }
      ],
      "source": [
        "# Train the VAE\n",
        "history = vae.fit(x_norm, x_norm,\n",
        "                   batch_size=256, epochs=5,\n",
        "                   shuffle=True, validation_split=0.20)"
      ]
    },
    {
      "cell_type": "code",
      "execution_count": 20,
      "metadata": {
        "colab": {
          "base_uri": "https://localhost:8080/"
        },
        "id": "C6o29tU-1XR0",
        "outputId": "fcaf1152-968a-45a3-d4f1-7869bbb7c4ea"
      },
      "outputs": [
        {
          "name": "stdout",
          "output_type": "stream",
          "text": [
            "8/8 [==============================] - 0s 2ms/step\n"
          ]
        }
      ],
      "source": [
        "reconstructed_data = vae.predict(X_train_fraud)\n",
        "reconstruction_error = np.mean(np.square(X_train_fraud - reconstructed_data), axis=1)\n",
        "threshold = 0.001"
      ]
    },
    {
      "cell_type": "code",
      "execution_count": 21,
      "metadata": {
        "id": "ujIKgwL21cl7"
      },
      "outputs": [],
      "source": [
        "# Classify instances as normal or fraud based on the threshold\n",
        "predictions = np.where(reconstruction_error > threshold, 1, 0)"
      ]
    },
    {
      "cell_type": "code",
      "execution_count": 22,
      "metadata": {
        "id": "F0cbeP_P1gOh"
      },
      "outputs": [],
      "source": [
        "true_labels = np.ones(len(X_test_fraud))\n",
        "# Evaluate the predictions\n",
        "accuracy = accuracy_score(true_labels, predictions)\n",
        "f1 = f1_score(true_labels, predictions)"
      ]
    },
    {
      "cell_type": "code",
      "execution_count": 23,
      "metadata": {
        "colab": {
          "base_uri": "https://localhost:8080/"
        },
        "id": "A4H0bLXJ1l79",
        "outputId": "04e957ed-2503-4b6a-feed-7daefdf713a8"
      },
      "outputs": [
        {
          "name": "stdout",
          "output_type": "stream",
          "text": [
            "F1 Score: 0.9834710743801653\n",
            "Number of fraud predictions: 238\n",
            "Number of non-fraud predictions: 8\n",
            "Model: \"variational_autoencoder_1\"\n",
            "_________________________________________________________________\n",
            " Layer (type)                Output Shape              Param #   \n",
            "=================================================================\n",
            " sequential_2 (Sequential)   (None, 10)                830       \n",
            "                                                                 \n",
            " mean (Dense)                multiple                  22        \n",
            "                                                                 \n",
            " log-variance (Dense)        multiple                  22        \n",
            "                                                                 \n",
            " sequential_3 (Sequential)   (None, 30)                880       \n",
            "                                                                 \n",
            "=================================================================\n",
            "Total params: 1754 (6.85 KB)\n",
            "Trainable params: 1754 (6.85 KB)\n",
            "Non-trainable params: 0 (0.00 Byte)\n",
            "_________________________________________________________________\n"
          ]
        }
      ],
      "source": [
        "print(\"F1 Score:\", f1)\n",
        "print(\"Number of fraud predictions:\", np.sum(predictions == 1))\n",
        "print(\"Number of non-fraud predictions:\", np.sum(predictions == 0))\n",
        "\n",
        "vae.summary()"
      ]
    }
  ],
  "metadata": {
    "colab": {
      "provenance": []
    },
    "kernelspec": {
      "display_name": "Python 3",
      "name": "python3"
    },
    "language_info": {
      "name": "python"
    }
  },
  "nbformat": 4,
  "nbformat_minor": 0
}
